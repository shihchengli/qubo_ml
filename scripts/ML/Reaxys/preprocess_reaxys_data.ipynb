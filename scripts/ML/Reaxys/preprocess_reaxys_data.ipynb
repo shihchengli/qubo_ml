{
 "cells": [
  {
   "cell_type": "code",
   "execution_count": null,
   "metadata": {
    "colab": {
     "base_uri": "https://localhost:8080/"
    },
    "id": "KPl-NQ8EZ89m",
    "outputId": "f5dcb7b0-67f1-4810-f9c0-a0919a6046c5"
   },
   "outputs": [],
   "source": [
    "!pip install py2opsin\n",
    "!pip install rdkit\n",
    "!pip install chemspipy\n",
    "!pip install pubchempy\n",
    "!pip install molvs"
   ]
  },
  {
   "cell_type": "code",
   "execution_count": null,
   "metadata": {
    "id": "wAIbzJ3HZv4t"
   },
   "outputs": [],
   "source": [
    "# import required modules\n",
    "import os\n",
    "import ast\n",
    "import re\n",
    "from collections import defaultdict\n",
    "import pandas as pd\n",
    "from matplotlib import pyplot as plt\n",
    "from sklearn.preprocessing import MultiLabelBinarizer\n",
    "from py2opsin import py2opsin\n",
    "import pubchempy as pcp\n",
    "from chemspipy import ChemSpider\n",
    "from tqdm import tqdm\n",
    "from rdkit import Chem\n",
    "from rdkit import RDLogger\n",
    "from rdkit.Chem import Draw\n",
    "from molvs import standardize_smiles\n",
    "\n",
    "RDLogger.DisableLog(\"rdApp.*\")  # ignore the rdkit warnings"
   ]
  },
  {
   "cell_type": "code",
   "execution_count": null,
   "metadata": {
    "colab": {
     "base_uri": "https://localhost:8080/"
    },
    "id": "oJQL5-4ZcRHH",
    "outputId": "9375b3ec-fcee-4663-cffc-ea989062ba22"
   },
   "outputs": [],
   "source": [
    "from google.colab import drive\n",
    "\n",
    "drive.mount(\"/content/drive\")"
   ]
  },
  {
   "cell_type": "code",
   "execution_count": null,
   "metadata": {
    "id": "UsEWYdqYcLVT"
   },
   "outputs": [],
   "source": [
    "def load_data(data_dir):\n",
    "    df = pd.DataFrame()\n",
    "    for file_name in os.listdir(data_dir):\n",
    "        if file_name.endswith(\".xlsx\"):\n",
    "            data_path = os.path.join(data_dir, file_name)\n",
    "            sub_df = pd.read_excel(data_path, engine=\"openpyxl\")\n",
    "            sub_df = sub_df[\n",
    "                [\n",
    "                    \"Reaction ID\",\n",
    "                    \"Reaction\",\n",
    "                    \"Temperature (Reaction Details) [C]\",\n",
    "                    \"Yield (numerical)\",\n",
    "                    \"Reagent\",\n",
    "                    \"Solvent (Reaction Details)\",\n",
    "                    \"Catalyst\",\n",
    "                ]\n",
    "            ]\n",
    "            sub_df = sub_df[:-2]  # Remove disclaimer and copyright\n",
    "            df = pd.concat([df, sub_df], ignore_index=True)\n",
    "        else:\n",
    "            continue\n",
    "\n",
    "    # Drop duplications\n",
    "    df = df.drop_duplicates()\n",
    "\n",
    "    return df"
   ]
  },
  {
   "cell_type": "code",
   "execution_count": null,
   "metadata": {
    "id": "36ijrce1RrxU"
   },
   "outputs": [],
   "source": [
    "def preprocess_data(df):\n",
    "    # remove reactions without reported yields, solvent, reaction SMILES, or temperature\n",
    "    # reactions without reagents or catalysts were retained in this dataset as\n",
    "    # there are known examples where, e.g., heating is sufficient for reactivity\n",
    "    df = df[df[\"Yield (numerical)\"].notna()]\n",
    "    df = df[df[\"Solvent (Reaction Details)\"].notna()]\n",
    "    df = df[df[\"Reaction\"].notna()]\n",
    "    df = df[df[\"Temperature (Reaction Details) [C]\"].notna()]\n",
    "\n",
    "    # Separate multiple components of each reaction condition type\n",
    "    col_splits = [\n",
    "        \"Yield (numerical)\",\n",
    "        \"Reagent\",\n",
    "        \"Catalyst\",\n",
    "        \"Solvent (Reaction Details)\",\n",
    "    ]\n",
    "    for col in col_splits:\n",
    "        df[col] = df[col].str.split(\"; \")\n",
    "    df[\"Yield (numerical)\"] = df[\"Yield (numerical)\"].apply(tuple)\n",
    "\n",
    "    # split 'Reaction' into 'reactants' and 'products' by '>>' and\n",
    "    df[[\"Reactants Smiles\", \"Products Smiles\"]] = df[\"Reaction\"].str.split(\n",
    "        \">>\", expand=True\n",
    "    )\n",
    "    df[[\"Reactants\", \"Products\"]] = df[\"Reaction\"].str.split(\">>\", expand=True)\n",
    "\n",
    "    # split 'reactants' and 'products' into lists by '.' in place\n",
    "    for col in [\"Reactants\", \"Products\"]:\n",
    "        df[col] = df[col].str.split(\".\")\n",
    "\n",
    "    # remove reactions without recorded structures (half reactions)\n",
    "    df = df[~df[\"Reaction\"].str.contains(\"^>>|>>$\")]\n",
    "\n",
    "    # remove reactants or products can not be parsed by RDKit\n",
    "    passed_parsed_by_rdkit_id_list = []\n",
    "    for i in range(len(df)):\n",
    "        smiles_list = df.iloc[i][\"Reactants\"] + df.iloc[i][\"Products\"]\n",
    "        failed_rdkit = False\n",
    "        for s in smiles_list:\n",
    "            if Chem.MolFromSmiles(s) is None:\n",
    "                failed_rdkit = True\n",
    "                break\n",
    "        if not failed_rdkit:\n",
    "            passed_parsed_by_rdkit_id_list.append(i)\n",
    "    df = df.iloc[passed_parsed_by_rdkit_id_list]\n",
    "\n",
    "    # concatenate 'Reagent' and 'Catalyst' columns to single 'reagents' lists\n",
    "    # first replace NaN values with empty lists\n",
    "    r_na = df[\"Reagent\"].isna()\n",
    "    c_na = df[\"Catalyst\"].isna()\n",
    "    df.loc[r_na, \"Reagent\"] = pd.Series([[]] * r_na.sum()).values\n",
    "    df.loc[c_na, \"Catalyst\"] = pd.Series([[]] * c_na.sum()).values\n",
    "\n",
    "    # concatenate lists and drop original columns\n",
    "    df[\"Reagents\"] = df[\"Reagent\"] + df[\"Catalyst\"]\n",
    "    df = df.drop([\"Reagent\", \"Catalyst\"], axis=1)\n",
    "\n",
    "    # remove duplicated reagents and solvents\n",
    "    # duplicate compounds and reagents often just refer to multiple equivalents\n",
    "    # duplicate solvents may refer to materials being added together as solutions\n",
    "    for col in [\"Reagents\", \"Solvent (Reaction Details)\"]:\n",
    "        df[col] = df[col].apply(lambda x: tuple(sorted(set(map(str.strip, x)))))\n",
    "\n",
    "    # keep only the maximum temperature, as the reaction should occur at high temperatures\n",
    "    # remove temperature details\n",
    "    def find_max_temperature(x):\n",
    "        numbers = re.findall(r\"-?\\d+\", str(x))\n",
    "        numbers = [int(num) for num in numbers]\n",
    "        if numbers:\n",
    "            return max(numbers)\n",
    "        else:\n",
    "            return None\n",
    "\n",
    "    df[\"Max Temperature\"] = df[\"Temperature (Reaction Details) [C]\"].apply(\n",
    "        find_max_temperature\n",
    "    )\n",
    "\n",
    "    # Remove duplicated reaction condition records\n",
    "    df = df.drop_duplicates(\n",
    "        subset=[\n",
    "            \"Reaction ID\",\n",
    "            \"Max Temperature\",\n",
    "            \"Solvent (Reaction Details)\",\n",
    "            \"Reagents\",\n",
    "        ]\n",
    "    )\n",
    "    df = df[\n",
    "        [\n",
    "            \"Reaction ID\",\n",
    "            \"Reaction\",\n",
    "            \"Temperature (Reaction Details) [C]\",\n",
    "            \"Max Temperature\",\n",
    "            \"Solvent (Reaction Details)\",\n",
    "            \"Reagents\",\n",
    "            \"Reactants\",\n",
    "            \"Products\",\n",
    "            \"Reactants Smiles\",\n",
    "            \"Products Smiles\",\n",
    "            \"Yield (numerical)\",\n",
    "        ]\n",
    "    ]\n",
    "\n",
    "    return df"
   ]
  },
  {
   "cell_type": "code",
   "execution_count": null,
   "metadata": {
    "id": "WznVZeSz4tpo"
   },
   "outputs": [],
   "source": [
    "def plot_dist(df):\n",
    "    for variable in [\n",
    "        \"Reactants\",\n",
    "        \"Products\",\n",
    "        \"Solvent (Reaction Details)\",\n",
    "        \"Reagents\",\n",
    "        \"Yield (numerical)\",\n",
    "    ]:\n",
    "        try:\n",
    "            value_counts = df[variable].map(len).value_counts()\n",
    "            plt.figure(figsize=(4, 4))\n",
    "            bars = plt.bar(value_counts.index, value_counts.values, width=0.6)\n",
    "            plt.xticks(value_counts.index)\n",
    "            # Enlarge space from the top of the bar to the top edge of the box\n",
    "            plt.ylim(top=max(value_counts.values) * 1.1)\n",
    "            # Add count values as labels on the bars\n",
    "            for bar, count in zip(bars, value_counts.values):\n",
    "                plt.text(\n",
    "                    bar.get_x() + bar.get_width() / 2,\n",
    "                    count + 50,\n",
    "                    str(count),\n",
    "                    ha=\"center\",\n",
    "                    fontsize=10,\n",
    "                    color=\"black\",\n",
    "                )\n",
    "            plt.xlabel(\"Number of elements\")\n",
    "            plt.ylabel(\"Count\")\n",
    "            plt.title(variable)\n",
    "        except:\n",
    "            pass"
   ]
  },
  {
   "cell_type": "code",
   "execution_count": null,
   "metadata": {
    "id": "ZFKPbwHmp08M"
   },
   "outputs": [],
   "source": [
    "# Standardize the labels for reagents and solvents\n",
    "# Check nomenclature for reagents and solvents\n",
    "\n",
    "ChemSpider_API_Key = \"Your_API_Key\"\n",
    "cs = ChemSpider(ChemSpider_API_Key)\n",
    "\n",
    "\n",
    "def PCPconvert(name):\n",
    "    s = pcp.get_compounds(name, \"name\")\n",
    "    try:\n",
    "        return s[0].canonical_smiles\n",
    "    except:\n",
    "        return None\n",
    "\n",
    "\n",
    "def ChemSpiderConvert(name):\n",
    "    results = cs.search(name)\n",
    "    if len(results) == 0:\n",
    "        return None\n",
    "    return results[0].smiles\n",
    "\n",
    "\n",
    "def OpsinConvert(name):\n",
    "    result = py2opsin(name)\n",
    "    if result == \"\":\n",
    "        return None\n",
    "    return result"
   ]
  },
  {
   "cell_type": "code",
   "execution_count": null,
   "metadata": {
    "id": "ytpPHgNaqXbC"
   },
   "outputs": [],
   "source": [
    "def analyze_nomenclature(df, property_name):\n",
    "    # return list of all unique molecular names and frequencies\n",
    "    df_all = df[property_name].explode()\n",
    "\n",
    "    # combine into single list with counts and frequencies\n",
    "    chemical_list = list(\n",
    "        zip(\n",
    "            df_all.value_counts().index,\n",
    "            df_all.value_counts(),\n",
    "            df_all.value_counts(normalize=True),\n",
    "        )\n",
    "    )\n",
    "\n",
    "    # create dataframe for processing\n",
    "    analyzed_df = pd.DataFrame(chemical_list, columns=[\"name\", \"count\", \"frequency\"])\n",
    "\n",
    "    # add column for cumulative sum of frequency\n",
    "    analyzed_df[\"cumulative\"] = analyzed_df.frequency.cumsum()\n",
    "\n",
    "    return analyzed_df"
   ]
  },
  {
   "cell_type": "code",
   "execution_count": null,
   "metadata": {
    "id": "sMNUCS0D8LIK"
   },
   "outputs": [],
   "source": [
    "def get_name_map_dict(df, name):\n",
    "    name_df = analyze_nomenclature(df, name)\n",
    "    # remove the entries with rare chemicals whose count in the dataset is less than 10\n",
    "    name_df = name_df[name_df[\"count\"] >= 10]\n",
    "\n",
    "    # Standardize the labels: I use OPSIN, PubChem, ChemSpider application\n",
    "    # programming interfaces to obtain the SMILES of chemical names\n",
    "\n",
    "    smiles_list = []\n",
    "    for i in tqdm(range(len(name_df))):\n",
    "        name = name_df.iloc[i][\"name\"]\n",
    "        smiles = OpsinConvert(name)\n",
    "        if smiles is None:\n",
    "            smiles = PCPconvert(name)\n",
    "        if smiles is None:\n",
    "            smiles = ChemSpiderConvert(name)\n",
    "        if smiles is not None:\n",
    "            try:\n",
    "                smiles = standardize_smiles(smiles)\n",
    "            except:\n",
    "                smiles = None\n",
    "        smiles_list.append(smiles)\n",
    "    name_df[\"smiles\"] = smiles_list\n",
    "\n",
    "    # Build a dictionary: keys = smiles, values: chemical names\n",
    "    keys = name_df.smiles\n",
    "    values = name_df.name\n",
    "\n",
    "    # Create a defaultdict with lists as default values\n",
    "    name_dict = defaultdict(list)\n",
    "\n",
    "    # Populate the dictionary with values\n",
    "    for key, value in zip(keys, values):\n",
    "        name_dict[key].append(value)\n",
    "\n",
    "    # Build `name_map_dict` to map the chemical name with the most frequently appearing\n",
    "    # name for the same chmical in the dataset\n",
    "    name_map_dict = {}\n",
    "    for key, values in name_dict.items():\n",
    "        main_name = values[0]\n",
    "        for value in values:\n",
    "            name_map_dict[value] = main_name\n",
    "\n",
    "    return name_map_dict"
   ]
  },
  {
   "cell_type": "code",
   "execution_count": null,
   "metadata": {
    "id": "PP6YHCN6qMMR"
   },
   "outputs": [],
   "source": [
    "# Replace the labels\n",
    "def get_names(names, map_dic):\n",
    "    mapped_names = []\n",
    "    for name in names:\n",
    "        try:\n",
    "            new_name = map_dic[name]\n",
    "        except KeyError:\n",
    "            new_name = None\n",
    "        mapped_names.append(new_name)\n",
    "\n",
    "    return mapped_names\n",
    "\n",
    "\n",
    "def replace_label(df, reagent_name_map_dict, solvent_name_map_dict):\n",
    "    # The labels without the corresponding SMILES are dropped\n",
    "    df[\"Reagents\"] = df[\"Reagents\"].apply(lambda x: get_names(x, reagent_name_map_dict))\n",
    "    mask = df[\"Reagents\"].apply(\n",
    "        lambda x: all(val in reagent_name_map_dict.keys() for val in x)\n",
    "    )\n",
    "    df = df[mask]\n",
    "\n",
    "    df[\"Solvent (Reaction Details)\"] = df[\"Solvent (Reaction Details)\"].apply(\n",
    "        lambda x: get_names(x, solvent_name_map_dict)\n",
    "    )\n",
    "    mask = df[\"Solvent (Reaction Details)\"].apply(\n",
    "        lambda x: all(val in solvent_name_map_dict.keys() for val in x)\n",
    "    )\n",
    "    df = df[mask]\n",
    "\n",
    "    return df"
   ]
  },
  {
   "cell_type": "markdown",
   "metadata": {
    "id": "FrkpazrA-Ocu"
   },
   "source": [
    "# Running preprocessing and saving preprocessed data"
   ]
  },
  {
   "cell_type": "code",
   "execution_count": null,
   "metadata": {
    "id": "oVvNJq6c4jD4"
   },
   "outputs": [],
   "source": [
    "def overview_df(df):\n",
    "    # Count the number of reactions and contexts\n",
    "    total_rxn = len(set(df[\"Reaction ID\"]))\n",
    "    total_context = len(df)\n",
    "    print(\"Total reactions:\", total_rxn)\n",
    "    print(\"Total contexts:\", total_context)\n",
    "\n",
    "    # get overview of missing values and dtypes\n",
    "    df.info()"
   ]
  },
  {
   "cell_type": "code",
   "execution_count": null,
   "metadata": {
    "id": "2JCvTNtkE9VM"
   },
   "outputs": [],
   "source": [
    "def visualize(df, index):\n",
    "    d = df.iloc[index]\n",
    "    Reaction = d[\"Reaction\"]\n",
    "    reac_smiles, prod_smiles = Reaction.split(\">>\")\n",
    "    reac_mol = Chem.MolFromSmiles(reac_smiles)\n",
    "    prod_mol = Chem.MolFromSmiles(prod_smiles)\n",
    "    return Draw.MolsToGridImage([reac_mol, prod_mol], legends=[\"Reactant\", \"Product\"])"
   ]
  },
  {
   "cell_type": "markdown",
   "metadata": {
    "id": "a77D5HrZ68jg"
   },
   "source": [
    "## negishi reactions"
   ]
  },
  {
   "cell_type": "code",
   "execution_count": null,
   "metadata": {
    "colab": {
     "base_uri": "https://localhost:8080/",
     "height": 944
    },
    "id": "kUTnj5Y-6-2n",
    "outputId": "cc239623-f878-4871-8519-64662e7770ee"
   },
   "outputs": [],
   "source": [
    "# Load data\n",
    "data_dir = \"/content/drive/MyDrive/SCL_Space/data/Reaxys/Raw_data/negishi/\"\n",
    "negishi_df = load_data(data_dir)\n",
    "overview_df(negishi_df)\n",
    "negishi_df"
   ]
  },
  {
   "cell_type": "code",
   "execution_count": null,
   "metadata": {
    "colab": {
     "base_uri": "https://localhost:8080/",
     "height": 1000
    },
    "id": "xOgP6F1n7DW3",
    "outputId": "ffc7bae3-cef3-4a88-ca37-2c9c8b29a58b"
   },
   "outputs": [],
   "source": [
    "# Preprocess data\n",
    "negishi_df = preprocess_data(negishi_df)\n",
    "overview_df(negishi_df)\n",
    "negishi_df"
   ]
  },
  {
   "cell_type": "code",
   "execution_count": null,
   "metadata": {
    "colab": {
     "base_uri": "https://localhost:8080/",
     "height": 1000
    },
    "id": "ONjkL0im7MJH",
    "outputId": "1a848cf5-ce2b-45c9-df2e-c5dfb2a8e3ce"
   },
   "outputs": [],
   "source": [
    "# Visualize the distribution for each variable\n",
    "plot_dist(negishi_df)"
   ]
  },
  {
   "cell_type": "code",
   "execution_count": null,
   "metadata": {
    "colab": {
     "base_uri": "https://localhost:8080/",
     "height": 1000
    },
    "id": "Cg1XEzgK7H38",
    "outputId": "4370620f-6495-45d3-efe3-fbd97a676ac0"
   },
   "outputs": [],
   "source": [
    "# Remove reaction conditions that involve more than 1 product, more than 2 solvents or 4 reagents,\n",
    "# have no reagents, or with multiple records of yield.\n",
    "negishi_df = negishi_df[negishi_df[\"Reactants\"].map(len) == 2]\n",
    "negishi_df = negishi_df[negishi_df[\"Products\"].map(len) == 1]\n",
    "negishi_df = negishi_df[negishi_df[\"Solvent (Reaction Details)\"].map(len) < 3]\n",
    "negishi_df = negishi_df[\n",
    "    (negishi_df[\"Reagents\"].map(len) < 5) & (negishi_df[\"Reagents\"].map(len) > 0)\n",
    "]\n",
    "negishi_df = negishi_df[negishi_df[\"Yield (numerical)\"].map(len) == 1]\n",
    "\n",
    "negishi_df[\"Yield (numerical)\"] = negishi_df[\"Yield (numerical)\"].apply(\n",
    "    lambda x: float(x[0])\n",
    ")\n",
    "overview_df(negishi_df)\n",
    "negishi_df"
   ]
  },
  {
   "cell_type": "code",
   "execution_count": null,
   "metadata": {
    "colab": {
     "base_uri": "https://localhost:8080/",
     "height": 1000
    },
    "id": "gxNIQ1ycFOgj",
    "outputId": "69937b62-3bfb-439d-a8dd-e39aeadacba1"
   },
   "outputs": [],
   "source": [
    "# Visualize the distribution for each variable\n",
    "plot_dist(negishi_df)"
   ]
  },
  {
   "cell_type": "code",
   "execution_count": null,
   "metadata": {
    "colab": {
     "base_uri": "https://localhost:8080/",
     "height": 1000
    },
    "id": "kha7wtf87O32",
    "outputId": "fc7ce739-95c8-4dba-fd9a-4417f455664e"
   },
   "outputs": [],
   "source": [
    "# Standardize the labels for reagents and solvents\n",
    "reagent_name_map_dict = get_name_map_dict(negishi_df, \"Reagents\")\n",
    "solvent_name_map_dict = get_name_map_dict(negishi_df, \"Solvent (Reaction Details)\")\n",
    "negishi_df = replace_label(negishi_df, reagent_name_map_dict, solvent_name_map_dict)\n",
    "overview_df(negishi_df)\n",
    "negishi_df"
   ]
  },
  {
   "cell_type": "code",
   "execution_count": null,
   "metadata": {
    "colab": {
     "base_uri": "https://localhost:8080/",
     "height": 826
    },
    "id": "4xgaoCsysM37",
    "outputId": "d17ede18-3b32-4b73-d229-123b2256c001"
   },
   "outputs": [],
   "source": [
    "for key in [\"Solvent (Reaction Details)\", \"Reagents\"]:\n",
    "    negishi_df[key] = negishi_df[key].apply(tuple)\n",
    "negishi_df = negishi_df.drop_duplicates(\n",
    "    subset=[\"Reaction ID\", \"Max Temperature\", \"Solvent (Reaction Details)\", \"Reagents\"]\n",
    ")\n",
    "for key in [\"Solvent (Reaction Details)\", \"Reagents\"]:\n",
    "    negishi_df[key] = negishi_df[key].apply(list)\n",
    "negishi_df"
   ]
  },
  {
   "cell_type": "code",
   "execution_count": null,
   "metadata": {
    "id": "oLisFNQv6e4C"
   },
   "outputs": [],
   "source": [
    "# Save result\n",
    "save_path = (\n",
    "    \"/content/drive/MyDrive/SCL_Space/data/Reaxys/preprocessed_data/negishi/negishi.csv\"\n",
    ")\n",
    "negishi_df.to_csv(save_path, index=False)"
   ]
  },
  {
   "cell_type": "code",
   "execution_count": null,
   "metadata": {
    "colab": {
     "base_uri": "https://localhost:8080/",
     "height": 1000
    },
    "id": "jumqeyZVgrdK",
    "outputId": "0fd58675-4a94-47d0-821d-a9f522ef0fcf"
   },
   "outputs": [],
   "source": [
    "# Visualize the distribution for each variable\n",
    "plot_dist(negishi_df)"
   ]
  },
  {
   "cell_type": "markdown",
   "metadata": {
    "id": "8ZTEJ62kJ_sP"
   },
   "source": [
    "## buchwald reactions"
   ]
  },
  {
   "cell_type": "code",
   "execution_count": null,
   "metadata": {
    "colab": {
     "base_uri": "https://localhost:8080/",
     "height": 1000
    },
    "id": "8cpsa3J6J_sb",
    "outputId": "a5534aa2-4e53-4f5f-bf30-e86b719bd132"
   },
   "outputs": [],
   "source": [
    "# Load data\n",
    "data_dir = \"/content/drive/MyDrive/SCL_Space/data/Reaxys/Raw_data/buchwald/\"\n",
    "buchwald_df = load_data(data_dir)\n",
    "overview_df(buchwald_df)\n",
    "buchwald_df"
   ]
  },
  {
   "cell_type": "code",
   "execution_count": null,
   "metadata": {
    "colab": {
     "base_uri": "https://localhost:8080/",
     "height": 1000
    },
    "id": "nNezcT04J_sc",
    "outputId": "c3ca5b84-f99f-4e8a-cf0a-8dc81ca5203c"
   },
   "outputs": [],
   "source": [
    "# Preprocess data\n",
    "buchwald_df = preprocess_data(buchwald_df)\n",
    "overview_df(buchwald_df)\n",
    "buchwald_df"
   ]
  },
  {
   "cell_type": "code",
   "execution_count": null,
   "metadata": {
    "colab": {
     "base_uri": "https://localhost:8080/",
     "height": 1000
    },
    "id": "zFrfDvJeJ_sc",
    "outputId": "d5bf9897-d817-4c45-e662-8e56bd9ae152"
   },
   "outputs": [],
   "source": [
    "# Visualize the distribution for each variable\n",
    "plot_dist(buchwald_df)"
   ]
  },
  {
   "cell_type": "code",
   "execution_count": null,
   "metadata": {
    "colab": {
     "base_uri": "https://localhost:8080/",
     "height": 1000
    },
    "id": "6j_CSEmfJ_sc",
    "outputId": "8027a033-b986-4821-ea76-65455ccca915"
   },
   "outputs": [],
   "source": [
    "# Remove reaction conditions that involve more than 1 product, more than 2 solvents or 4 reagents,\n",
    "# have no reagents, or with multiple records of yield.\n",
    "buchwald_df = buchwald_df[buchwald_df[\"Reactants\"].map(len) == 2]\n",
    "buchwald_df = buchwald_df[buchwald_df[\"Products\"].map(len) == 1]\n",
    "buchwald_df = buchwald_df[buchwald_df[\"Solvent (Reaction Details)\"].map(len) < 3]\n",
    "buchwald_df = buchwald_df[\n",
    "    (buchwald_df[\"Reagents\"].map(len) < 5) & (buchwald_df[\"Reagents\"].map(len) > 0)\n",
    "]\n",
    "buchwald_df = buchwald_df[buchwald_df[\"Yield (numerical)\"].map(len) == 1]\n",
    "\n",
    "buchwald_df[\"Yield (numerical)\"] = buchwald_df[\"Yield (numerical)\"].apply(\n",
    "    lambda x: float(x[0])\n",
    ")\n",
    "overview_df(buchwald_df)\n",
    "buchwald_df"
   ]
  },
  {
   "cell_type": "code",
   "execution_count": null,
   "metadata": {
    "colab": {
     "base_uri": "https://localhost:8080/",
     "height": 1000
    },
    "id": "nGrmW4fIJBCN",
    "outputId": "146683d8-6190-4b9f-8b30-fb079f1e1993"
   },
   "outputs": [],
   "source": [
    "# Visualize the distribution for each variable\n",
    "plot_dist(buchwald_df)"
   ]
  },
  {
   "cell_type": "code",
   "execution_count": null,
   "metadata": {
    "colab": {
     "base_uri": "https://localhost:8080/",
     "height": 1000
    },
    "id": "lqWEl6WuJ_sc",
    "outputId": "679f9a34-cce5-4776-957a-6ebab4a150d9"
   },
   "outputs": [],
   "source": [
    "# Standardize the labels for reagents and solvents\n",
    "reagent_name_map_dict = get_name_map_dict(buchwald_df, \"Reagents\")\n",
    "solvent_name_map_dict = get_name_map_dict(buchwald_df, \"Solvent (Reaction Details)\")\n",
    "buchwald_df = replace_label(buchwald_df, reagent_name_map_dict, solvent_name_map_dict)\n",
    "overview_df(buchwald_df)\n",
    "buchwald_df"
   ]
  },
  {
   "cell_type": "code",
   "execution_count": null,
   "metadata": {
    "colab": {
     "base_uri": "https://localhost:8080/",
     "height": 895
    },
    "id": "wFDPzYwZz0hU",
    "outputId": "ccbcb9f9-e183-4b12-eba3-f0fe228cf762"
   },
   "outputs": [],
   "source": [
    "for key in [\"Solvent (Reaction Details)\", \"Reagents\"]:\n",
    "    buchwald_df[key] = buchwald_df[key].apply(tuple)\n",
    "buchwald_df = buchwald_df.drop_duplicates(\n",
    "    subset=[\"Reaction ID\", \"Max Temperature\", \"Solvent (Reaction Details)\", \"Reagents\"]\n",
    ")\n",
    "for key in [\"Solvent (Reaction Details)\", \"Reagents\"]:\n",
    "    buchwald_df[key] = buchwald_df[key].apply(list)\n",
    "buchwald_df"
   ]
  },
  {
   "cell_type": "code",
   "execution_count": null,
   "metadata": {
    "id": "0ZZZSnEZJ_sc"
   },
   "outputs": [],
   "source": [
    "# Save result\n",
    "save_path = \"/content/drive/MyDrive/SCL_Space/data/Reaxys/preprocessed_data/buchwald/buchwald.csv\"\n",
    "buchwald_df.to_csv(save_path, index=False)"
   ]
  },
  {
   "cell_type": "code",
   "execution_count": null,
   "metadata": {
    "colab": {
     "base_uri": "https://localhost:8080/",
     "height": 1000
    },
    "id": "IIvp9q3Kgni1",
    "outputId": "543a9abc-9039-413e-90c0-8c7b1c59af92"
   },
   "outputs": [],
   "source": [
    "# Visualize the distribution for each variable\n",
    "plot_dist(buchwald_df)"
   ]
  },
  {
   "cell_type": "markdown",
   "metadata": {
    "id": "k7dfjUqgKdqE"
   },
   "source": [
    "## suzuki reactions"
   ]
  },
  {
   "cell_type": "code",
   "execution_count": null,
   "metadata": {
    "colab": {
     "base_uri": "https://localhost:8080/",
     "height": 1000
    },
    "id": "Cj6pLcZgKdqQ",
    "outputId": "8bf4f2d1-cbe0-4b6b-9835-9bdae3471c42"
   },
   "outputs": [],
   "source": [
    "# Load data\n",
    "data_dir = \"/content/drive/MyDrive/SCL_Space/data/Reaxys/Raw_data/suzuki/\"\n",
    "suzuki_df = load_data(data_dir)\n",
    "overview_df(suzuki_df)\n",
    "suzuki_df"
   ]
  },
  {
   "cell_type": "code",
   "execution_count": null,
   "metadata": {
    "colab": {
     "base_uri": "https://localhost:8080/",
     "height": 1000
    },
    "id": "tj3GWtCLKdqR",
    "outputId": "dfde0d26-5333-4c29-f941-95d86f115fe1"
   },
   "outputs": [],
   "source": [
    "# Preprocess data\n",
    "suzuki_df = preprocess_data(suzuki_df)\n",
    "overview_df(suzuki_df)\n",
    "suzuki_df"
   ]
  },
  {
   "cell_type": "code",
   "execution_count": null,
   "metadata": {
    "colab": {
     "base_uri": "https://localhost:8080/",
     "height": 1000
    },
    "id": "Cexkxn0LKdqR",
    "outputId": "e8fc3bc5-a9b6-4845-b753-3537902fc191"
   },
   "outputs": [],
   "source": [
    "# Visualize the distribution for each variable\n",
    "plot_dist(suzuki_df)"
   ]
  },
  {
   "cell_type": "code",
   "execution_count": null,
   "metadata": {
    "colab": {
     "base_uri": "https://localhost:8080/",
     "height": 1000
    },
    "id": "qcMqHSZ0KdqR",
    "outputId": "e014ca27-791c-48bb-d99b-712b9804bc51"
   },
   "outputs": [],
   "source": [
    "# Remove reaction conditions that involve more than 1 product, more than 2 solvents or 4 reagents,\n",
    "# have no reagents, or with multiple records of yield.\n",
    "suzuki_df = suzuki_df[suzuki_df[\"Reactants\"].map(len) == 2]\n",
    "suzuki_df = suzuki_df[suzuki_df[\"Products\"].map(len) == 1]\n",
    "suzuki_df = suzuki_df[suzuki_df[\"Solvent (Reaction Details)\"].map(len) < 3]\n",
    "suzuki_df = suzuki_df[\n",
    "    (suzuki_df[\"Reagents\"].map(len) < 5) & (suzuki_df[\"Reagents\"].map(len) > 0)\n",
    "]\n",
    "suzuki_df = suzuki_df[suzuki_df[\"Yield (numerical)\"].map(len) == 1]\n",
    "\n",
    "suzuki_df[\"Yield (numerical)\"] = suzuki_df[\"Yield (numerical)\"].apply(\n",
    "    lambda x: float(x[0])\n",
    ")\n",
    "overview_df(suzuki_df)\n",
    "suzuki_df"
   ]
  },
  {
   "cell_type": "code",
   "execution_count": null,
   "metadata": {
    "colab": {
     "base_uri": "https://localhost:8080/",
     "height": 1000
    },
    "id": "8-U2ZFzVJDOL",
    "outputId": "1e698d06-ba33-4d4f-d400-7603537c160a"
   },
   "outputs": [],
   "source": [
    "# Visualize the distribution for each variable\n",
    "plot_dist(suzuki_df)"
   ]
  },
  {
   "cell_type": "code",
   "execution_count": null,
   "metadata": {
    "colab": {
     "base_uri": "https://localhost:8080/",
     "height": 1000
    },
    "id": "PWrLSKlWKdqR",
    "outputId": "838f12cc-f86f-4a00-db8f-f4cde172758f"
   },
   "outputs": [],
   "source": [
    "# Standardize the labels for reagents and solvents\n",
    "reagent_name_map_dict = get_name_map_dict(suzuki_df, \"Reagents\")\n",
    "solvent_name_map_dict = get_name_map_dict(suzuki_df, \"Solvent (Reaction Details)\")\n",
    "suzuki_df = replace_label(suzuki_df, reagent_name_map_dict, solvent_name_map_dict)\n",
    "overview_df(suzuki_df)\n",
    "suzuki_df"
   ]
  },
  {
   "cell_type": "code",
   "execution_count": null,
   "metadata": {
    "colab": {
     "base_uri": "https://localhost:8080/",
     "height": 791
    },
    "id": "UfiDPSlsz4gD",
    "outputId": "0027a223-e8ec-4ca6-dbc5-10419409f0d2"
   },
   "outputs": [],
   "source": [
    "for key in [\"Solvent (Reaction Details)\", \"Reagents\"]:\n",
    "    suzuki_df[key] = suzuki_df[key].apply(tuple)\n",
    "suzuki_df = suzuki_df.drop_duplicates(\n",
    "    subset=[\"Reaction ID\", \"Max Temperature\", \"Solvent (Reaction Details)\", \"Reagents\"]\n",
    ")\n",
    "for key in [\"Solvent (Reaction Details)\", \"Reagents\"]:\n",
    "    suzuki_df[key] = suzuki_df[key].apply(list)\n",
    "suzuki_df"
   ]
  },
  {
   "cell_type": "code",
   "execution_count": null,
   "metadata": {
    "id": "IvIP8ZMxKdqR"
   },
   "outputs": [],
   "source": [
    "# Save result\n",
    "save_path = (\n",
    "    \"/content/drive/MyDrive/SCL_Space/data/Reaxys/preprocessed_data/suzuki/suzuki.csv\"\n",
    ")\n",
    "suzuki_df.to_csv(save_path, index=False)"
   ]
  },
  {
   "cell_type": "code",
   "execution_count": null,
   "metadata": {
    "colab": {
     "base_uri": "https://localhost:8080/",
     "height": 1000
    },
    "id": "j40pYtUOgjDY",
    "outputId": "5100e8c4-556c-460c-a1a6-0d576957ae56"
   },
   "outputs": [],
   "source": [
    "# Visualize the distribution for each variable\n",
    "plot_dist(suzuki_df)"
   ]
  },
  {
   "cell_type": "markdown",
   "metadata": {
    "id": "URt4GsJ9teu_"
   },
   "source": [
    "# Create features file"
   ]
  },
  {
   "cell_type": "code",
   "execution_count": null,
   "metadata": {
    "id": "pDWxDnvz90V5"
   },
   "outputs": [],
   "source": [
    "def int_to_binary(integer_value, num_bits=8):\n",
    "    try:\n",
    "        # Use the 'b' format specifier to convert the integer to a binary string\n",
    "        binary_string = format(int(integer_value), f\"0{num_bits}b\")\n",
    "        binary_array = [int(bit) for bit in binary_string]\n",
    "    except:\n",
    "        print(integer_value)\n",
    "    return binary_array"
   ]
  },
  {
   "cell_type": "markdown",
   "metadata": {
    "id": "9lZbstfCtoAW"
   },
   "source": [
    "## negishi reactions"
   ]
  },
  {
   "cell_type": "code",
   "execution_count": null,
   "metadata": {
    "colab": {
     "base_uri": "https://localhost:8080/",
     "height": 721
    },
    "id": "m8ZKaKHJtly6",
    "outputId": "b5a8af76-39c0-48c3-b275-33a9b16f52a6"
   },
   "outputs": [],
   "source": [
    "data_path = (\n",
    "    \"/content/drive/MyDrive/SCL_Space/data/Reaxys/preprocessed_data/negishi/negishi.csv\"\n",
    ")\n",
    "negishi_df = pd.read_csv(data_path)\n",
    "negishi_df[\"Reagents\"] = negishi_df[\"Reagents\"].apply(ast.literal_eval)\n",
    "negishi_df[\"Solvent (Reaction Details)\"] = negishi_df[\n",
    "    \"Solvent (Reaction Details)\"\n",
    "].apply(ast.literal_eval)\n",
    "negishi_df = negishi_df[\n",
    "    (negishi_df[\"Max Temperature\"] >= 20) & (negishi_df[\"Max Temperature\"] <= 150)\n",
    "]\n",
    "negishi_df = negishi_df.reset_index(drop=True)\n",
    "negishi_df"
   ]
  },
  {
   "cell_type": "code",
   "execution_count": null,
   "metadata": {
    "colab": {
     "base_uri": "https://localhost:8080/",
     "height": 465
    },
    "id": "UOb8ehew0XmN",
    "outputId": "24ab73a9-ff45-417d-8276-8d65ebf33138"
   },
   "outputs": [],
   "source": [
    "temperature_all = negishi_df[\"Max Temperature\"]\n",
    "# check minimum and maximum temperatures (these may be outliers)\n",
    "print(\"min:\", temperature_all.min())\n",
    "print(\"max:\", temperature_all.max())\n",
    "# plot distribution of temperatures excluding outliers\n",
    "plot = temperature_all.hist(grid=False)"
   ]
  },
  {
   "cell_type": "code",
   "execution_count": null,
   "metadata": {
    "colab": {
     "base_uri": "https://localhost:8080/",
     "height": 423
    },
    "id": "cJ7iCbWt0PLV",
    "outputId": "28c041ea-3642-42b9-a464-ecc23e14d5fa"
   },
   "outputs": [],
   "source": [
    "# temperature solvent\n",
    "temperature_tiles = pd.qcut(temperature_all, 10, duplicates=\"drop\")\n",
    "temperature_tiles.to_frame()\n",
    "negishi_df[\"Max Temperature Quantiles\"] = temperature_tiles.apply(str)\n",
    "temps = [[str(i)] for i in temperature_tiles]\n",
    "temp_mlb = MultiLabelBinarizer()\n",
    "temp_encoded = pd.DataFrame(\n",
    "    temp_mlb.fit_transform(temps), columns=temp_mlb.classes_, index=negishi_df.index\n",
    ")\n",
    "temp_encoded"
   ]
  },
  {
   "cell_type": "code",
   "execution_count": null,
   "metadata": {
    "colab": {
     "base_uri": "https://localhost:8080/",
     "height": 423
    },
    "id": "YKmy6iFQAPp2",
    "outputId": "23c96da2-d2a1-4955-f2ea-a7b786652cfe"
   },
   "outputs": [],
   "source": [
    "temperature_data = negishi_df[\"Max Temperature\"].apply(int_to_binary)\n",
    "columns = [str(2 ** (i - 1)) for i in range(8, 0, -1)]\n",
    "temp_binary_encoded = pd.DataFrame(temperature_data.tolist(), columns=columns)\n",
    "temp_binary_encoded"
   ]
  },
  {
   "cell_type": "code",
   "execution_count": null,
   "metadata": {
    "colab": {
     "base_uri": "https://localhost:8080/",
     "height": 599
    },
    "id": "Qr4HJBcKfIyn",
    "outputId": "2e059d89-4e1e-4605-982c-3981576a6359"
   },
   "outputs": [],
   "source": [
    "# label reagent\n",
    "reagent_mlb = MultiLabelBinarizer()\n",
    "reagent_encoded = pd.DataFrame(\n",
    "    reagent_mlb.fit_transform(negishi_df[\"Reagents\"]),\n",
    "    columns=reagent_mlb.classes_,\n",
    "    index=negishi_df.index,\n",
    ")\n",
    "reagent_encoded"
   ]
  },
  {
   "cell_type": "code",
   "execution_count": null,
   "metadata": {
    "colab": {
     "base_uri": "https://localhost:8080/",
     "height": 478
    },
    "id": "1aXhYVAbhViQ",
    "outputId": "8b5cb1b3-6ff9-4b2d-ede6-d7d253a3e552"
   },
   "outputs": [],
   "source": [
    "# label solvent\n",
    "sol_mlb = MultiLabelBinarizer()\n",
    "sol_encoded = pd.DataFrame(\n",
    "    sol_mlb.fit_transform(negishi_df[\"Solvent (Reaction Details)\"]),\n",
    "    columns=sol_mlb.classes_,\n",
    "    index=negishi_df.index,\n",
    ")\n",
    "sol_encoded"
   ]
  },
  {
   "cell_type": "code",
   "execution_count": null,
   "metadata": {
    "id": "WOoNA7Sm0lVd"
   },
   "outputs": [],
   "source": [
    "for key in [\"Solvent (Reaction Details)\", \"Reagents\"]:\n",
    "    negishi_df[key] = negishi_df[key].apply(tuple)\n",
    "filtered_negishi_df = negishi_df.drop_duplicates(\n",
    "    subset=[\n",
    "        \"Reaction ID\",\n",
    "        \"Max Temperature\",\n",
    "        \"Solvent (Reaction Details)\",\n",
    "        \"Reagents\",\n",
    "        \"Max Temperature Quantiles\",\n",
    "    ]\n",
    ")\n",
    "filtered_index = filtered_negishi_df.index\n",
    "for key in [\"Solvent (Reaction Details)\", \"Reagents\"]:\n",
    "    filtered_negishi_df[key] = filtered_negishi_df[key].apply(list)\n",
    "filtered_negishi_df.to_csv(\n",
    "    \"/content/drive/MyDrive/SCL_Space/data/Reaxys/preprocessed_data/negishi/filtered_negishi.csv\",\n",
    "    index=False,\n",
    ")\n",
    "temp_encoded.loc[filtered_index].to_csv(\n",
    "    \"/content/drive/MyDrive/SCL_Space/data/Reaxys/preprocessed_data/negishi/filtered_negishi_temp.csv\",\n",
    "    index=False,\n",
    ")\n",
    "temp_binary_encoded.loc[filtered_index].to_csv(\n",
    "    \"/content/drive/MyDrive/SCL_Space/data/Reaxys/preprocessed_data/negishi/filtered_negishi_binary_temp.csv\",\n",
    "    index=False,\n",
    ")\n",
    "reagent_encoded.loc[filtered_index].to_csv(\n",
    "    \"/content/drive/MyDrive/SCL_Space/data/Reaxys/preprocessed_data/negishi/filtered_negishi_reagent.csv\",\n",
    "    index=False,\n",
    ")\n",
    "sol_encoded.loc[filtered_index].to_csv(\n",
    "    \"/content/drive/MyDrive/SCL_Space/data/Reaxys/preprocessed_data/negishi/filtered_negishi_sol.csv\",\n",
    "    index=False,\n",
    ")"
   ]
  },
  {
   "cell_type": "markdown",
   "metadata": {
    "id": "1B8M7NWdijAr"
   },
   "source": [
    "## buchwald reactions"
   ]
  },
  {
   "cell_type": "code",
   "execution_count": null,
   "metadata": {
    "colab": {
     "base_uri": "https://localhost:8080/",
     "height": 773
    },
    "id": "xRqLC28y11dX",
    "outputId": "dc9d481d-92da-4db2-f86b-d16c9887baa8"
   },
   "outputs": [],
   "source": [
    "data_path = \"/content/drive/MyDrive/SCL_Space/data/Reaxys/preprocessed_data/buchwald/buchwald.csv\"\n",
    "buchwald_df = pd.read_csv(data_path)\n",
    "buchwald_df[\"Reagents\"] = buchwald_df[\"Reagents\"].apply(ast.literal_eval)\n",
    "buchwald_df[\"Solvent (Reaction Details)\"] = buchwald_df[\n",
    "    \"Solvent (Reaction Details)\"\n",
    "].apply(ast.literal_eval)\n",
    "buchwald_df = buchwald_df[\n",
    "    (buchwald_df[\"Max Temperature\"] >= 20) & (buchwald_df[\"Max Temperature\"] <= 150)\n",
    "]\n",
    "buchwald_df = buchwald_df.reset_index(drop=True)\n",
    "buchwald_df"
   ]
  },
  {
   "cell_type": "code",
   "execution_count": null,
   "metadata": {
    "colab": {
     "base_uri": "https://localhost:8080/",
     "height": 465
    },
    "id": "UByIhqtU11dj",
    "outputId": "7c450301-c9f6-4681-db24-029d4b0c9c61"
   },
   "outputs": [],
   "source": [
    "temperature_all = buchwald_df[\"Max Temperature\"]\n",
    "# check minimum and maximum temperatures (these may be outliers)\n",
    "print(\"min:\", temperature_all.min())\n",
    "print(\"max:\", temperature_all.max())\n",
    "# plot distribution of temperatures excluding outliers\n",
    "plot = temperature_all.hist(grid=False)"
   ]
  },
  {
   "cell_type": "code",
   "execution_count": null,
   "metadata": {
    "colab": {
     "base_uri": "https://localhost:8080/",
     "height": 441
    },
    "id": "W7j2uylb11dj",
    "outputId": "02e0775a-6696-48b3-a201-460b0391ad0d"
   },
   "outputs": [],
   "source": [
    "# temperature solvent\n",
    "temperature_tiles = pd.qcut(temperature_all, 10, duplicates=\"drop\")\n",
    "temperature_tiles.to_frame()\n",
    "buchwald_df[\"Max Temperature Quantiles\"] = temperature_tiles.apply(str)\n",
    "temps = [[str(i)] for i in temperature_tiles]\n",
    "temp_mlb = MultiLabelBinarizer()\n",
    "temp_encoded = pd.DataFrame(\n",
    "    temp_mlb.fit_transform(temps), columns=temp_mlb.classes_, index=buchwald_df.index\n",
    ")\n",
    "temp_encoded"
   ]
  },
  {
   "cell_type": "code",
   "execution_count": null,
   "metadata": {
    "colab": {
     "base_uri": "https://localhost:8080/",
     "height": 423
    },
    "id": "w1DTt8s0BDoq",
    "outputId": "94c4aa4f-9b15-4d56-fb55-27e990ff2d35"
   },
   "outputs": [],
   "source": [
    "temperature_data = buchwald_df[\"Max Temperature\"].apply(int_to_binary)\n",
    "columns = [str(2 ** (i - 1)) for i in range(8, 0, -1)]\n",
    "temp_binary_encoded = pd.DataFrame(temperature_data.tolist(), columns=columns)\n",
    "temp_binary_encoded"
   ]
  },
  {
   "cell_type": "code",
   "execution_count": null,
   "metadata": {
    "colab": {
     "base_uri": "https://localhost:8080/",
     "height": 547
    },
    "id": "ncEFZFL311dj",
    "outputId": "0919e7df-4b6a-4dbc-af60-b685751c31f8"
   },
   "outputs": [],
   "source": [
    "# label reagent\n",
    "reagent_mlb = MultiLabelBinarizer()\n",
    "reagent_encoded = pd.DataFrame(\n",
    "    reagent_mlb.fit_transform(buchwald_df[\"Reagents\"]),\n",
    "    columns=reagent_mlb.classes_,\n",
    "    index=buchwald_df.index,\n",
    ")\n",
    "reagent_encoded"
   ]
  },
  {
   "cell_type": "code",
   "execution_count": null,
   "metadata": {
    "colab": {
     "base_uri": "https://localhost:8080/",
     "height": 495
    },
    "id": "cze6zTNb11dj",
    "outputId": "837257f0-fe78-4f39-d058-e83f5bee2af5"
   },
   "outputs": [],
   "source": [
    "# label solvent\n",
    "sol_mlb = MultiLabelBinarizer()\n",
    "sol_encoded = pd.DataFrame(\n",
    "    sol_mlb.fit_transform(buchwald_df[\"Solvent (Reaction Details)\"]),\n",
    "    columns=sol_mlb.classes_,\n",
    "    index=buchwald_df.index,\n",
    ")\n",
    "sol_encoded"
   ]
  },
  {
   "cell_type": "code",
   "execution_count": null,
   "metadata": {
    "id": "TxlRIO8l11dj"
   },
   "outputs": [],
   "source": [
    "for key in [\"Solvent (Reaction Details)\", \"Reagents\"]:\n",
    "    buchwald_df[key] = buchwald_df[key].apply(tuple)\n",
    "filtered_buchwald_df = buchwald_df.drop_duplicates(\n",
    "    subset=[\n",
    "        \"Reaction ID\",\n",
    "        \"Max Temperature\",\n",
    "        \"Solvent (Reaction Details)\",\n",
    "        \"Reagents\",\n",
    "        \"Max Temperature Quantiles\",\n",
    "    ]\n",
    ")\n",
    "filtered_index = filtered_buchwald_df.index\n",
    "for key in [\"Solvent (Reaction Details)\", \"Reagents\"]:\n",
    "    filtered_buchwald_df[key] = filtered_buchwald_df[key].apply(list)\n",
    "filtered_buchwald_df.to_csv(\n",
    "    \"/content/drive/MyDrive/SCL_Space/data/Reaxys/preprocessed_data/buchwald/filtered_buchwald.csv\",\n",
    "    index=False,\n",
    ")\n",
    "temp_encoded.loc[filtered_index].to_csv(\n",
    "    \"/content/drive/MyDrive/SCL_Space/data/Reaxys/preprocessed_data/buchwald/filtered_buchwald_temp.csv\",\n",
    "    index=False,\n",
    ")\n",
    "temp_binary_encoded.loc[filtered_index].to_csv(\n",
    "    \"/content/drive/MyDrive/SCL_Space/data/Reaxys/preprocessed_data/buchwald/filtered_buchwald_binary_temp.csv\",\n",
    "    index=False,\n",
    ")\n",
    "reagent_encoded.loc[filtered_index].to_csv(\n",
    "    \"/content/drive/MyDrive/SCL_Space/data/Reaxys/preprocessed_data/buchwald/filtered_buchwald_reagent.csv\",\n",
    "    index=False,\n",
    ")\n",
    "sol_encoded.loc[filtered_index].to_csv(\n",
    "    \"/content/drive/MyDrive/SCL_Space/data/Reaxys/preprocessed_data/buchwald/filtered_buchwald_sol.csv\",\n",
    "    index=False,\n",
    ")"
   ]
  },
  {
   "cell_type": "markdown",
   "metadata": {
    "id": "Mt9mI7d7jzX2"
   },
   "source": [
    "## suzuki reactions"
   ]
  },
  {
   "cell_type": "code",
   "execution_count": null,
   "metadata": {
    "colab": {
     "base_uri": "https://localhost:8080/",
     "height": 686
    },
    "id": "-cxMwqnO2Pnd",
    "outputId": "d0d1fb64-acbb-4882-b523-9be05439d2cb"
   },
   "outputs": [],
   "source": [
    "data_path = (\n",
    "    \"/content/drive/MyDrive/SCL_Space/data/Reaxys/preprocessed_data/suzuki/suzuki.csv\"\n",
    ")\n",
    "suzuki_df = pd.read_csv(data_path)\n",
    "suzuki_df[\"Reagents\"] = suzuki_df[\"Reagents\"].apply(ast.literal_eval)\n",
    "suzuki_df[\"Solvent (Reaction Details)\"] = suzuki_df[\"Solvent (Reaction Details)\"].apply(\n",
    "    ast.literal_eval\n",
    ")\n",
    "suzuki_df = suzuki_df[\n",
    "    (suzuki_df[\"Max Temperature\"] >= 20) & (suzuki_df[\"Max Temperature\"] <= 150)\n",
    "]\n",
    "suzuki_df = suzuki_df.reset_index(drop=True)\n",
    "suzuki_df"
   ]
  },
  {
   "cell_type": "code",
   "execution_count": null,
   "metadata": {
    "colab": {
     "base_uri": "https://localhost:8080/",
     "height": 465
    },
    "id": "Am4qz0L22Pnl",
    "outputId": "2057cee0-70a0-40b5-bc97-f3d06058b188"
   },
   "outputs": [],
   "source": [
    "temperature_all = suzuki_df[\"Max Temperature\"]\n",
    "# check minimum and maximum temperatures (these may be outliers)\n",
    "print(\"min:\", temperature_all.min())\n",
    "print(\"max:\", temperature_all.max())\n",
    "# plot distribution of temperatures excluding outliers\n",
    "plot = temperature_all.hist(grid=False)"
   ]
  },
  {
   "cell_type": "code",
   "execution_count": null,
   "metadata": {
    "colab": {
     "base_uri": "https://localhost:8080/",
     "height": 441
    },
    "id": "o74Pl0Eh2Pnl",
    "outputId": "a56016cf-1e1c-47e6-e4ad-76dfdb57accd"
   },
   "outputs": [],
   "source": [
    "# temperature solvent\n",
    "temperature_tiles = pd.qcut(temperature_all, 10, duplicates=\"drop\")\n",
    "temperature_tiles.to_frame()\n",
    "suzuki_df[\"Max Temperature Quantiles\"] = temperature_tiles.apply(str)\n",
    "temps = [[str(i)] for i in temperature_tiles]\n",
    "temp_mlb = MultiLabelBinarizer()\n",
    "temp_encoded = pd.DataFrame(\n",
    "    temp_mlb.fit_transform(temps), columns=temp_mlb.classes_, index=suzuki_df.index\n",
    ")\n",
    "temp_encoded"
   ]
  },
  {
   "cell_type": "code",
   "execution_count": null,
   "metadata": {
    "colab": {
     "base_uri": "https://localhost:8080/",
     "height": 423
    },
    "id": "-e8Ro595BE3O",
    "outputId": "a33a1a36-507f-4922-8510-2e93f255e73c"
   },
   "outputs": [],
   "source": [
    "temperature_data = suzuki_df[\"Max Temperature\"].apply(int_to_binary)\n",
    "columns = [str(2 ** (i - 1)) for i in range(8, 0, -1)]\n",
    "temp_binary_encoded = pd.DataFrame(temperature_data.tolist(), columns=columns)\n",
    "temp_binary_encoded"
   ]
  },
  {
   "cell_type": "code",
   "execution_count": null,
   "metadata": {
    "colab": {
     "base_uri": "https://localhost:8080/",
     "height": 513
    },
    "id": "b36SWLd22Pnl",
    "outputId": "fef3a99b-c288-4725-9dda-54245e8f1a2d"
   },
   "outputs": [],
   "source": [
    "# label reagent\n",
    "reagent_mlb = MultiLabelBinarizer()\n",
    "reagent_encoded = pd.DataFrame(\n",
    "    reagent_mlb.fit_transform(suzuki_df[\"Reagents\"]),\n",
    "    columns=reagent_mlb.classes_,\n",
    "    index=suzuki_df.index,\n",
    ")\n",
    "reagent_encoded"
   ]
  },
  {
   "cell_type": "code",
   "execution_count": null,
   "metadata": {
    "colab": {
     "base_uri": "https://localhost:8080/",
     "height": 495
    },
    "id": "04CepsaS2Pnm",
    "outputId": "a5a7637c-f5a1-4d45-9d2d-de959e50f04d"
   },
   "outputs": [],
   "source": [
    "# label solvent\n",
    "sol_mlb = MultiLabelBinarizer()\n",
    "sol_encoded = pd.DataFrame(\n",
    "    sol_mlb.fit_transform(suzuki_df[\"Solvent (Reaction Details)\"]),\n",
    "    columns=sol_mlb.classes_,\n",
    "    index=suzuki_df.index,\n",
    ")\n",
    "sol_encoded"
   ]
  },
  {
   "cell_type": "code",
   "execution_count": null,
   "metadata": {
    "id": "n6ddLU3w2Pnm"
   },
   "outputs": [],
   "source": [
    "for key in [\"Solvent (Reaction Details)\", \"Reagents\"]:\n",
    "    suzuki_df[key] = suzuki_df[key].apply(tuple)\n",
    "filtered_suzuki_df = suzuki_df.drop_duplicates(\n",
    "    subset=[\n",
    "        \"Reaction ID\",\n",
    "        \"Max Temperature\",\n",
    "        \"Solvent (Reaction Details)\",\n",
    "        \"Reagents\",\n",
    "        \"Max Temperature Quantiles\",\n",
    "    ]\n",
    ")\n",
    "filtered_index = filtered_suzuki_df.index\n",
    "for key in [\"Solvent (Reaction Details)\", \"Reagents\"]:\n",
    "    filtered_suzuki_df[key] = filtered_suzuki_df[key].apply(list)\n",
    "filtered_suzuki_df.to_csv(\n",
    "    \"/content/drive/MyDrive/SCL_Space/data/Reaxys/preprocessed_data/suzuki/filtered_suzuki.csv\",\n",
    "    index=False,\n",
    ")\n",
    "temp_encoded.loc[filtered_index].to_csv(\n",
    "    \"/content/drive/MyDrive/SCL_Space/data/Reaxys/preprocessed_data/suzuki/filtered_suzuki_temp.csv\",\n",
    "    index=False,\n",
    ")\n",
    "temp_binary_encoded.loc[filtered_index].to_csv(\n",
    "    \"/content/drive/MyDrive/SCL_Space/data/Reaxys/preprocessed_data/suzuki/filtered_suzuki_binary_temp.csv\",\n",
    "    index=False,\n",
    ")\n",
    "reagent_encoded.loc[filtered_index].to_csv(\n",
    "    \"/content/drive/MyDrive/SCL_Space/data/Reaxys/preprocessed_data/suzuki/filtered_suzuki_reagent.csv\",\n",
    "    index=False,\n",
    ")\n",
    "sol_encoded.loc[filtered_index].to_csv(\n",
    "    \"/content/drive/MyDrive/SCL_Space/data/Reaxys/preprocessed_data/suzuki/filtered_suzuki_sol.csv\",\n",
    "    index=False,\n",
    ")"
   ]
  }
 ],
 "metadata": {
  "colab": {
   "provenance": [],
   "toc_visible": true
  },
  "kernelspec": {
   "display_name": "Python 3",
   "name": "python3"
  },
  "language_info": {
   "name": "python"
  }
 },
 "nbformat": 4,
 "nbformat_minor": 0
}
